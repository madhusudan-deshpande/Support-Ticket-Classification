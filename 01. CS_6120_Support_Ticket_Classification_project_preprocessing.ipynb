{
 "cells": [
  {
   "cell_type": "code",
   "execution_count": 1,
   "id": "f6527d62",
   "metadata": {
    "id": "f6527d62"
   },
   "outputs": [],
   "source": [
    "import numpy as np\n",
    "import pandas as pd\n",
    "import re\n",
    "import nltk\n",
    "from nltk.corpus import stopwords\n",
    "from nltk.stem import PorterStemmer\n",
    "\n",
    "from nltk.tokenize import word_tokenize\n",
    "import warnings\n",
    "import seaborn as sns\n",
    "import matplotlib.pyplot as plt\n",
    "from sklearn.model_selection import train_test_split\n",
    "warnings.filterwarnings(\"ignore\")"
   ]
  },
  {
   "cell_type": "code",
   "execution_count": 2,
   "id": "a64973a7",
   "metadata": {
    "id": "a64973a7"
   },
   "outputs": [],
   "source": [
    "df = pd.read_csv('all_tickets.csv')"
   ]
  },
  {
   "cell_type": "code",
   "execution_count": 3,
   "id": "6bdd4c79",
   "metadata": {
    "colab": {
     "base_uri": "https://localhost:8080/",
     "height": 580
    },
    "id": "6bdd4c79",
    "outputId": "a77284f9-21c6-4206-ea73-e87d65b5b92c"
   },
   "outputs": [
    {
     "data": {
      "text/html": [
       "<div>\n",
       "<style scoped>\n",
       "    .dataframe tbody tr th:only-of-type {\n",
       "        vertical-align: middle;\n",
       "    }\n",
       "\n",
       "    .dataframe tbody tr th {\n",
       "        vertical-align: top;\n",
       "    }\n",
       "\n",
       "    .dataframe thead th {\n",
       "        text-align: right;\n",
       "    }\n",
       "</style>\n",
       "<table border=\"1\" class=\"dataframe\">\n",
       "  <thead>\n",
       "    <tr style=\"text-align: right;\">\n",
       "      <th></th>\n",
       "      <th>title</th>\n",
       "      <th>body</th>\n",
       "      <th>ticket_type</th>\n",
       "      <th>category</th>\n",
       "      <th>sub_category1</th>\n",
       "      <th>sub_category2</th>\n",
       "      <th>business_service</th>\n",
       "      <th>urgency</th>\n",
       "      <th>impact</th>\n",
       "    </tr>\n",
       "  </thead>\n",
       "  <tbody>\n",
       "    <tr>\n",
       "      <th>0</th>\n",
       "      <td>NaN</td>\n",
       "      <td>hi since recruiter lead permission approve req...</td>\n",
       "      <td>1</td>\n",
       "      <td>4</td>\n",
       "      <td>2</td>\n",
       "      <td>21</td>\n",
       "      <td>71</td>\n",
       "      <td>3</td>\n",
       "      <td>4</td>\n",
       "    </tr>\n",
       "    <tr>\n",
       "      <th>1</th>\n",
       "      <td>connection with icon</td>\n",
       "      <td>icon dear please setup icon per icon engineers...</td>\n",
       "      <td>1</td>\n",
       "      <td>6</td>\n",
       "      <td>22</td>\n",
       "      <td>7</td>\n",
       "      <td>26</td>\n",
       "      <td>3</td>\n",
       "      <td>4</td>\n",
       "    </tr>\n",
       "    <tr>\n",
       "      <th>2</th>\n",
       "      <td>work experience user</td>\n",
       "      <td>work experience user hi work experience studen...</td>\n",
       "      <td>1</td>\n",
       "      <td>5</td>\n",
       "      <td>13</td>\n",
       "      <td>7</td>\n",
       "      <td>32</td>\n",
       "      <td>3</td>\n",
       "      <td>4</td>\n",
       "    </tr>\n",
       "    <tr>\n",
       "      <th>3</th>\n",
       "      <td>requesting for meeting</td>\n",
       "      <td>requesting meeting hi please help follow equip...</td>\n",
       "      <td>1</td>\n",
       "      <td>5</td>\n",
       "      <td>13</td>\n",
       "      <td>7</td>\n",
       "      <td>32</td>\n",
       "      <td>3</td>\n",
       "      <td>4</td>\n",
       "    </tr>\n",
       "    <tr>\n",
       "      <th>4</th>\n",
       "      <td>reset passwords for external accounts</td>\n",
       "      <td>re expire days hi ask help update passwords co...</td>\n",
       "      <td>1</td>\n",
       "      <td>4</td>\n",
       "      <td>2</td>\n",
       "      <td>76</td>\n",
       "      <td>4</td>\n",
       "      <td>3</td>\n",
       "      <td>4</td>\n",
       "    </tr>\n",
       "    <tr>\n",
       "      <th>5</th>\n",
       "      <td>mail</td>\n",
       "      <td>verification warning hi has got attached pleas...</td>\n",
       "      <td>1</td>\n",
       "      <td>4</td>\n",
       "      <td>3</td>\n",
       "      <td>7</td>\n",
       "      <td>89</td>\n",
       "      <td>3</td>\n",
       "      <td>4</td>\n",
       "    </tr>\n",
       "    <tr>\n",
       "      <th>6</th>\n",
       "      <td>mail</td>\n",
       "      <td>please dear looks blacklisted receiving mails ...</td>\n",
       "      <td>1</td>\n",
       "      <td>4</td>\n",
       "      <td>3</td>\n",
       "      <td>87</td>\n",
       "      <td>89</td>\n",
       "      <td>3</td>\n",
       "      <td>4</td>\n",
       "    </tr>\n",
       "    <tr>\n",
       "      <th>7</th>\n",
       "      <td>prod servers tunneling</td>\n",
       "      <td>prod tunneling va la tunneling la host si la s...</td>\n",
       "      <td>1</td>\n",
       "      <td>6</td>\n",
       "      <td>22</td>\n",
       "      <td>21</td>\n",
       "      <td>95</td>\n",
       "      <td>3</td>\n",
       "      <td>4</td>\n",
       "    </tr>\n",
       "    <tr>\n",
       "      <th>8</th>\n",
       "      <td>access request</td>\n",
       "      <td>dear modules report report cost thank much reg...</td>\n",
       "      <td>1</td>\n",
       "      <td>4</td>\n",
       "      <td>1</td>\n",
       "      <td>7</td>\n",
       "      <td>66</td>\n",
       "      <td>3</td>\n",
       "      <td>4</td>\n",
       "    </tr>\n",
       "    <tr>\n",
       "      <th>9</th>\n",
       "      <td>reset passwords for our client and</td>\n",
       "      <td>passwords client dear please passwords thank</td>\n",
       "      <td>1</td>\n",
       "      <td>5</td>\n",
       "      <td>2</td>\n",
       "      <td>76</td>\n",
       "      <td>4</td>\n",
       "      <td>3</td>\n",
       "      <td>4</td>\n",
       "    </tr>\n",
       "  </tbody>\n",
       "</table>\n",
       "</div>"
      ],
      "text/plain": [
       "                                   title  \\\n",
       "0                                    NaN   \n",
       "1                   connection with icon   \n",
       "2                   work experience user   \n",
       "3                 requesting for meeting   \n",
       "4  reset passwords for external accounts   \n",
       "5                                   mail   \n",
       "6                                   mail   \n",
       "7                 prod servers tunneling   \n",
       "8                         access request   \n",
       "9     reset passwords for our client and   \n",
       "\n",
       "                                                body  ticket_type  category  \\\n",
       "0  hi since recruiter lead permission approve req...            1         4   \n",
       "1  icon dear please setup icon per icon engineers...            1         6   \n",
       "2  work experience user hi work experience studen...            1         5   \n",
       "3  requesting meeting hi please help follow equip...            1         5   \n",
       "4  re expire days hi ask help update passwords co...            1         4   \n",
       "5  verification warning hi has got attached pleas...            1         4   \n",
       "6  please dear looks blacklisted receiving mails ...            1         4   \n",
       "7  prod tunneling va la tunneling la host si la s...            1         6   \n",
       "8  dear modules report report cost thank much reg...            1         4   \n",
       "9       passwords client dear please passwords thank            1         5   \n",
       "\n",
       "   sub_category1  sub_category2  business_service  urgency  impact  \n",
       "0              2             21                71        3       4  \n",
       "1             22              7                26        3       4  \n",
       "2             13              7                32        3       4  \n",
       "3             13              7                32        3       4  \n",
       "4              2             76                 4        3       4  \n",
       "5              3              7                89        3       4  \n",
       "6              3             87                89        3       4  \n",
       "7             22             21                95        3       4  \n",
       "8              1              7                66        3       4  \n",
       "9              2             76                 4        3       4  "
      ]
     },
     "execution_count": 3,
     "metadata": {},
     "output_type": "execute_result"
    }
   ],
   "source": [
    "df.head(10)"
   ]
  },
  {
   "cell_type": "code",
   "execution_count": 4,
   "id": "1308074e",
   "metadata": {
    "colab": {
     "base_uri": "https://localhost:8080/"
    },
    "id": "1308074e",
    "outputId": "19a85021-25cf-4017-ff90-1c0e66db2d6b"
   },
   "outputs": [
    {
     "name": "stdout",
     "output_type": "stream",
     "text": [
      "<class 'pandas.core.frame.DataFrame'>\n",
      "RangeIndex: 48549 entries, 0 to 48548\n",
      "Data columns (total 9 columns):\n",
      " #   Column            Non-Null Count  Dtype \n",
      "---  ------            --------------  ----- \n",
      " 0   title             47837 non-null  object\n",
      " 1   body              48549 non-null  object\n",
      " 2   ticket_type       48549 non-null  int64 \n",
      " 3   category          48549 non-null  int64 \n",
      " 4   sub_category1     48549 non-null  int64 \n",
      " 5   sub_category2     48549 non-null  int64 \n",
      " 6   business_service  48549 non-null  int64 \n",
      " 7   urgency           48549 non-null  int64 \n",
      " 8   impact            48549 non-null  int64 \n",
      "dtypes: int64(7), object(2)\n",
      "memory usage: 3.3+ MB\n"
     ]
    }
   ],
   "source": [
    "df.info()"
   ]
  },
  {
   "cell_type": "code",
   "execution_count": 5,
   "id": "e99aca79",
   "metadata": {
    "colab": {
     "base_uri": "https://localhost:8080/"
    },
    "id": "e99aca79",
    "outputId": "d04914f3-446b-4d61-bec4-3ede4673034a"
   },
   "outputs": [
    {
     "data": {
      "text/plain": [
       "title               712\n",
       "body                  0\n",
       "ticket_type           0\n",
       "category              0\n",
       "sub_category1         0\n",
       "sub_category2         0\n",
       "business_service      0\n",
       "urgency               0\n",
       "impact                0\n",
       "dtype: int64"
      ]
     },
     "execution_count": 5,
     "metadata": {},
     "output_type": "execute_result"
    }
   ],
   "source": [
    "df.isna().sum()"
   ]
  },
  {
   "cell_type": "code",
   "execution_count": 6,
   "id": "54ae5572",
   "metadata": {
    "colab": {
     "base_uri": "https://localhost:8080/"
    },
    "id": "54ae5572",
    "outputId": "cfd70b77-a508-43a4-850f-acdf1356f6a4"
   },
   "outputs": [
    {
     "data": {
      "text/plain": [
       "1    34621\n",
       "0    13928\n",
       "Name: ticket_type, dtype: int64"
      ]
     },
     "execution_count": 6,
     "metadata": {},
     "output_type": "execute_result"
    }
   ],
   "source": [
    "df['ticket_type'].value_counts()"
   ]
  },
  {
   "cell_type": "code",
   "execution_count": 7,
   "id": "861cf515",
   "metadata": {
    "colab": {
     "base_uri": "https://localhost:8080/"
    },
    "id": "861cf515",
    "outputId": "4684dbd8-b26a-478b-c2d7-f7a4252e8602"
   },
   "outputs": [
    {
     "data": {
      "text/plain": [
       "array([ 4,  6,  5,  7, 11,  1,  8, 12,  3,  9,  0, 10,  2], dtype=int64)"
      ]
     },
     "execution_count": 7,
     "metadata": {},
     "output_type": "execute_result"
    }
   ],
   "source": [
    "df['category'].unique()"
   ]
  },
  {
   "cell_type": "code",
   "execution_count": 8,
   "id": "59b01677",
   "metadata": {
    "colab": {
     "base_uri": "https://localhost:8080/"
    },
    "id": "59b01677",
    "outputId": "a18cce4f-a22a-4e0f-bad8-2b857b2b1cac"
   },
   "outputs": [
    {
     "data": {
      "text/plain": [
       "4     34061\n",
       "5      9634\n",
       "6      2628\n",
       "7       921\n",
       "11      612\n",
       "8       239\n",
       "9       191\n",
       "3       137\n",
       "1        72\n",
       "12       45\n",
       "0         4\n",
       "2         3\n",
       "10        2\n",
       "Name: category, dtype: int64"
      ]
     },
     "execution_count": 8,
     "metadata": {},
     "output_type": "execute_result"
    }
   ],
   "source": [
    "df['category'].value_counts()"
   ]
  },
  {
   "cell_type": "code",
   "execution_count": 9,
   "id": "b866eb58",
   "metadata": {
    "colab": {
     "base_uri": "https://localhost:8080/"
    },
    "id": "b866eb58",
    "outputId": "16310b48-3f8d-45dc-955c-e2b944acec0c"
   },
   "outputs": [
    {
     "data": {
      "text/plain": [
       "array([ 2, 22, 13,  3,  1, 15, 39, 36, 33, 17, 30, 50, 16, 56, 55, 11, 43,\n",
       "        6, 58, 29, 26, 42, 37,  8, 24, 45, 25,  0, 52, 28, 31, 46, 38, 20,\n",
       "        4, 48, 18,  5, 44, 21, 51,  9, 12, 35, 32, 10, 14, 41, 54, 27, 53,\n",
       "       49, 40, 57, 23, 19, 34,  7, 47], dtype=int64)"
      ]
     },
     "execution_count": 9,
     "metadata": {},
     "output_type": "execute_result"
    }
   ],
   "source": [
    "df['sub_category1'].unique()"
   ]
  },
  {
   "cell_type": "code",
   "execution_count": 10,
   "id": "49ddba1f",
   "metadata": {
    "colab": {
     "base_uri": "https://localhost:8080/"
    },
    "id": "49ddba1f",
    "outputId": "10284ebd-d959-4565-9feb-dd91e505e719"
   },
   "outputs": [
    {
     "data": {
      "text/plain": [
       "array([ 21,   7,  76,  87,  60,  94,  88,  86, 105,  51,   0,   3,  91,\n",
       "       107, 108,  61,  95,  73,  12,   6,  16,   9,  70, 102,  33,  26,\n",
       "       104,  68,  44,  93,  27, 100,  46,  92,  75,   8,  10,  19,  85,\n",
       "        36,  39,  31, 114,  79,   1,  41,  11,  23,  74,  65, 106, 111,\n",
       "        77,  29,  40,  53,  89,  63,  71,  98,  82,  62,  78,  50, 110,\n",
       "        22, 112, 101,   4,  55,  30,  90,  83,  54,  66,  17,  57,  32,\n",
       "        59,  20,   2,  14,  80,  97,  13,  24,  43, 109,  84,  35,  69,\n",
       "        42,  96, 113,  37,  28,  48,  67,  81,   5,  34,  18,  58,  99,\n",
       "        25,  45,  72,  49,  38,  52,  64, 103,  15,  47,  56], dtype=int64)"
      ]
     },
     "execution_count": 10,
     "metadata": {},
     "output_type": "execute_result"
    }
   ],
   "source": [
    "df['sub_category2'].unique()"
   ]
  },
  {
   "cell_type": "code",
   "execution_count": 11,
   "id": "c29ccff3",
   "metadata": {
    "colab": {
     "base_uri": "https://localhost:8080/"
    },
    "id": "c29ccff3",
    "outputId": "4d7cb522-ab27-4c9e-8c00-3515b1a3040a"
   },
   "outputs": [
    {
     "data": {
      "text/plain": [
       "array([ 71,  26,  32,   4,  89,  95,  66,  67,  74,  40,  36,  10,  52,\n",
       "        73,  70,  38,  43,  46,  19,  92,  51,  49,  63,   2,  87,  96,\n",
       "        48,  29,  27,  41,  65,   7,  68, 100,  24,  88,  56,   6,  58,\n",
       "        21,   3,  59,  72,  62,  25,  45,  57,  99,  53,   5,  20,  23,\n",
       "        64,  93,  42,  98,   9,  34,  30,  78,  94,  91,  16,  83,  11,\n",
       "        28,  69,  90,  15,  14,  97,   8, 101,  33,  79,  76,  12,  39,\n",
       "        50,  84,  85,  13,  81,  60,  61,  22,  18,   1,  54,  44,  82,\n",
       "        86,  77,  35, 102,  55,  75,  47,  37,  80,  31,  17,   0],\n",
       "      dtype=int64)"
      ]
     },
     "execution_count": 11,
     "metadata": {},
     "output_type": "execute_result"
    }
   ],
   "source": [
    "df['business_service'].unique()"
   ]
  },
  {
   "cell_type": "code",
   "execution_count": 12,
   "id": "1e4b57d0",
   "metadata": {
    "colab": {
     "base_uri": "https://localhost:8080/"
    },
    "id": "1e4b57d0",
    "outputId": "94ac4abe-b0b2-4ae3-ca18-d2739b0813c7"
   },
   "outputs": [
    {
     "data": {
      "text/plain": [
       "3    34621\n",
       "1     6748\n",
       "2     5528\n",
       "0     1652\n",
       "Name: urgency, dtype: int64"
      ]
     },
     "execution_count": 12,
     "metadata": {},
     "output_type": "execute_result"
    }
   ],
   "source": [
    "df['urgency'].value_counts()"
   ]
  },
  {
   "cell_type": "code",
   "execution_count": 13,
   "id": "e0a0b641",
   "metadata": {
    "colab": {
     "base_uri": "https://localhost:8080/"
    },
    "id": "e0a0b641",
    "outputId": "6caebaa0-0e5c-4291-bec1-27676b38b3da"
   },
   "outputs": [
    {
     "data": {
      "text/plain": [
       "4    34621\n",
       "3    13184\n",
       "0      471\n",
       "2      228\n",
       "1       45\n",
       "Name: impact, dtype: int64"
      ]
     },
     "execution_count": 13,
     "metadata": {},
     "output_type": "execute_result"
    }
   ],
   "source": [
    "df['impact'].value_counts()"
   ]
  },
  {
   "cell_type": "code",
   "execution_count": 14,
   "id": "fc5fb144",
   "metadata": {
    "id": "fc5fb144"
   },
   "outputs": [],
   "source": [
    "relevant_cols = ['body','category']"
   ]
  },
  {
   "cell_type": "code",
   "execution_count": 15,
   "id": "abc1e36c",
   "metadata": {
    "id": "abc1e36c"
   },
   "outputs": [],
   "source": [
    "df = df[relevant_cols]"
   ]
  },
  {
   "cell_type": "code",
   "execution_count": 16,
   "id": "cbd6724f",
   "metadata": {
    "colab": {
     "base_uri": "https://localhost:8080/",
     "height": 206
    },
    "id": "cbd6724f",
    "outputId": "9bef9e09-d8bf-4561-f837-6992e3de1a3d"
   },
   "outputs": [
    {
     "data": {
      "text/html": [
       "<div>\n",
       "<style scoped>\n",
       "    .dataframe tbody tr th:only-of-type {\n",
       "        vertical-align: middle;\n",
       "    }\n",
       "\n",
       "    .dataframe tbody tr th {\n",
       "        vertical-align: top;\n",
       "    }\n",
       "\n",
       "    .dataframe thead th {\n",
       "        text-align: right;\n",
       "    }\n",
       "</style>\n",
       "<table border=\"1\" class=\"dataframe\">\n",
       "  <thead>\n",
       "    <tr style=\"text-align: right;\">\n",
       "      <th></th>\n",
       "      <th>body</th>\n",
       "      <th>category</th>\n",
       "    </tr>\n",
       "  </thead>\n",
       "  <tbody>\n",
       "    <tr>\n",
       "      <th>0</th>\n",
       "      <td>hi since recruiter lead permission approve req...</td>\n",
       "      <td>4</td>\n",
       "    </tr>\n",
       "    <tr>\n",
       "      <th>1</th>\n",
       "      <td>icon dear please setup icon per icon engineers...</td>\n",
       "      <td>6</td>\n",
       "    </tr>\n",
       "    <tr>\n",
       "      <th>2</th>\n",
       "      <td>work experience user hi work experience studen...</td>\n",
       "      <td>5</td>\n",
       "    </tr>\n",
       "    <tr>\n",
       "      <th>3</th>\n",
       "      <td>requesting meeting hi please help follow equip...</td>\n",
       "      <td>5</td>\n",
       "    </tr>\n",
       "    <tr>\n",
       "      <th>4</th>\n",
       "      <td>re expire days hi ask help update passwords co...</td>\n",
       "      <td>4</td>\n",
       "    </tr>\n",
       "  </tbody>\n",
       "</table>\n",
       "</div>"
      ],
      "text/plain": [
       "                                                body  category\n",
       "0  hi since recruiter lead permission approve req...         4\n",
       "1  icon dear please setup icon per icon engineers...         6\n",
       "2  work experience user hi work experience studen...         5\n",
       "3  requesting meeting hi please help follow equip...         5\n",
       "4  re expire days hi ask help update passwords co...         4"
      ]
     },
     "execution_count": 16,
     "metadata": {},
     "output_type": "execute_result"
    }
   ],
   "source": [
    "df.head()"
   ]
  },
  {
   "cell_type": "code",
   "execution_count": 17,
   "id": "687a82e5",
   "metadata": {
    "colab": {
     "base_uri": "https://localhost:8080/"
    },
    "id": "687a82e5",
    "outputId": "d265698f-7db5-41a9-da5f-8a33a93fa921"
   },
   "outputs": [
    {
     "data": {
      "text/plain": [
       "(48549, 2)"
      ]
     },
     "execution_count": 17,
     "metadata": {},
     "output_type": "execute_result"
    }
   ],
   "source": [
    "df.shape"
   ]
  },
  {
   "cell_type": "code",
   "execution_count": 18,
   "id": "c83c90e3",
   "metadata": {
    "colab": {
     "base_uri": "https://localhost:8080/"
    },
    "id": "c83c90e3",
    "outputId": "cd87b00b-7cd2-463e-cc2f-a63d9689f7ea"
   },
   "outputs": [
    {
     "data": {
      "text/plain": [
       "array([ 4,  6,  5,  7, 11,  1,  8, 12,  3,  9,  0, 10,  2], dtype=int64)"
      ]
     },
     "execution_count": 18,
     "metadata": {},
     "output_type": "execute_result"
    }
   ],
   "source": [
    "df['category'].unique()"
   ]
  },
  {
   "cell_type": "code",
   "execution_count": 19,
   "id": "993f7386",
   "metadata": {
    "colab": {
     "base_uri": "https://localhost:8080/",
     "height": 279
    },
    "id": "993f7386",
    "outputId": "0c391938-5e38-43de-ff22-0efec42176c3"
   },
   "outputs": [
    {
     "data": {
      "image/png": "[encoded data removed]",
      "text/plain": [
       "<Figure size 432x288 with 1 Axes>"
      ]
     },
     "metadata": {
      "needs_background": "light"
     },
     "output_type": "display_data"
    }
   ],
   "source": [
    "ax = sns.countplot(df['category'], data=df)"
   ]
  },
  {
   "cell_type": "code",
   "execution_count": 20,
   "id": "95b23f35",
   "metadata": {
    "id": "95b23f35"
   },
   "outputs": [],
   "source": [
    "# replace categories with minimum number of text data with 0\n",
    "df['category'].replace([7,11,8,9,3,1,12,0,2,10],0,inplace=True)"
   ]
  },
  {
   "cell_type": "code",
   "execution_count": 21,
   "id": "586727e5",
   "metadata": {
    "colab": {
     "base_uri": "https://localhost:8080/"
    },
    "id": "586727e5",
    "outputId": "17261ec7-c893-44b7-cdd5-89701d2a96a9"
   },
   "outputs": [
    {
     "data": {
      "text/plain": [
       "4    34061\n",
       "5     9634\n",
       "6     2628\n",
       "0     2226\n",
       "Name: category, dtype: int64"
      ]
     },
     "execution_count": 21,
     "metadata": {},
     "output_type": "execute_result"
    }
   ],
   "source": [
    "df['category'].value_counts()"
   ]
  },
  {
   "cell_type": "code",
   "execution_count": 22,
   "id": "b3d632d8",
   "metadata": {
    "colab": {
     "base_uri": "https://localhost:8080/",
     "height": 279
    },
    "id": "b3d632d8",
    "outputId": "1b5793ed-ab10-4600-feb0-d91ebc19b728"
   },
   "outputs": [
    {
     "data": {
      "image/png": "[encoded data removed]",
      "text/plain": [
       "<Figure size 432x288 with 1 Axes>"
      ]
     },
     "metadata": {
      "needs_background": "light"
     },
     "output_type": "display_data"
    }
   ],
   "source": [
    "ax = sns.countplot(df['category'], data=df)"
   ]
  },
  {
   "cell_type": "code",
   "execution_count": 23,
   "id": "1c15a562",
   "metadata": {
    "id": "1c15a562"
   },
   "outputs": [],
   "source": [
    "def clean_message(message, perform_stemming = False):\n",
    "    '''\n",
    "    Input:\n",
    "        message: a string containing a message.\n",
    "    Output:\n",
    "        messages_cleaned: a list of words containing the processed message. \n",
    "\n",
    "    '''\n",
    "    #Remove Punctuation\n",
    "    messages_cleaned = re.sub(r'[^\\w\\s]', '', message)\n",
    "    \n",
    "    #Remove Links\n",
    "    messages_cleaned = re.sub(r'https?://\\S+', '', messages_cleaned)\n",
    "    \n",
    "    #Lower Case\n",
    "    messages_cleaned = messages_cleaned.lower()\n",
    "    \n",
    "    #Tokenize\n",
    "    messages_cleaned = word_tokenize(messages_cleaned)\n",
    "    \n",
    "    #Remove Stopwords\n",
    "    stop_words_list = stopwords.words('english')\n",
    "    for token in messages_cleaned:\n",
    "        if token in stop_words_list:\n",
    "            messages_cleaned.remove(token)\n",
    "    \n",
    "    #Perform Stemming\n",
    "    if perform_stemming == True:\n",
    "        temp = messages_cleaned.copy()\n",
    "        messages_cleaned.clear()\n",
    "        for token in temp:\n",
    "            messages_cleaned.append(PorterStemmer().stem(token))\n",
    "\n",
    "    return messages_cleaned"
   ]
  },
  {
   "cell_type": "code",
   "execution_count": 24,
   "id": "_iBkWnGr7XLK",
   "metadata": {
    "colab": {
     "base_uri": "https://localhost:8080/"
    },
    "id": "_iBkWnGr7XLK",
    "outputId": "9f4956b9-d8fc-401e-c6ac-107cb13873db"
   },
   "outputs": [
    {
     "name": "stderr",
     "output_type": "stream",
     "text": [
      "[nltk_data] Downloading package punkt to C:\\Users\\Dvija\n",
      "[nltk_data]     Shah\\AppData\\Roaming\\nltk_data...\n",
      "[nltk_data]   Package punkt is already up-to-date!\n",
      "[nltk_data] Downloading package stopwords to C:\\Users\\Dvija\n",
      "[nltk_data]     Shah\\AppData\\Roaming\\nltk_data...\n",
      "[nltk_data]   Package stopwords is already up-to-date!\n"
     ]
    },
    {
     "data": {
      "text/plain": [
       "True"
      ]
     },
     "execution_count": 24,
     "metadata": {},
     "output_type": "execute_result"
    }
   ],
   "source": [
    "nltk.download('punkt')\n",
    "nltk.download('stopwords')"
   ]
  },
  {
   "cell_type": "code",
   "execution_count": 25,
   "id": "1bd91ab3",
   "metadata": {
    "id": "1bd91ab3"
   },
   "outputs": [],
   "source": [
    "df['clean_body'] = df['body'].apply(lambda row: clean_message(row))"
   ]
  },
  {
   "cell_type": "code",
   "execution_count": 26,
   "id": "7da588be",
   "metadata": {
    "colab": {
     "base_uri": "https://localhost:8080/",
     "height": 423
    },
    "id": "7da588be",
    "outputId": "65d36f27-f9bc-4754-abab-2e823dfe0259"
   },
   "outputs": [
    {
     "data": {
      "text/html": [
       "<div>\n",
       "<style scoped>\n",
       "    .dataframe tbody tr th:only-of-type {\n",
       "        vertical-align: middle;\n",
       "    }\n",
       "\n",
       "    .dataframe tbody tr th {\n",
       "        vertical-align: top;\n",
       "    }\n",
       "\n",
       "    .dataframe thead th {\n",
       "        text-align: right;\n",
       "    }\n",
       "</style>\n",
       "<table border=\"1\" class=\"dataframe\">\n",
       "  <thead>\n",
       "    <tr style=\"text-align: right;\">\n",
       "      <th></th>\n",
       "      <th>body</th>\n",
       "      <th>category</th>\n",
       "      <th>clean_body</th>\n",
       "    </tr>\n",
       "  </thead>\n",
       "  <tbody>\n",
       "    <tr>\n",
       "      <th>0</th>\n",
       "      <td>hi since recruiter lead permission approve req...</td>\n",
       "      <td>4</td>\n",
       "      <td>[hi, since, recruiter, lead, permission, appro...</td>\n",
       "    </tr>\n",
       "    <tr>\n",
       "      <th>1</th>\n",
       "      <td>icon dear please setup icon per icon engineers...</td>\n",
       "      <td>6</td>\n",
       "      <td>[icon, dear, please, setup, icon, per, icon, e...</td>\n",
       "    </tr>\n",
       "    <tr>\n",
       "      <th>2</th>\n",
       "      <td>work experience user hi work experience studen...</td>\n",
       "      <td>5</td>\n",
       "      <td>[work, experience, user, hi, work, experience,...</td>\n",
       "    </tr>\n",
       "    <tr>\n",
       "      <th>3</th>\n",
       "      <td>requesting meeting hi please help follow equip...</td>\n",
       "      <td>5</td>\n",
       "      <td>[requesting, meeting, hi, please, help, follow...</td>\n",
       "    </tr>\n",
       "    <tr>\n",
       "      <th>4</th>\n",
       "      <td>re expire days hi ask help update passwords co...</td>\n",
       "      <td>4</td>\n",
       "      <td>[expire, days, hi, ask, help, update, password...</td>\n",
       "    </tr>\n",
       "    <tr>\n",
       "      <th>...</th>\n",
       "      <td>...</td>\n",
       "      <td>...</td>\n",
       "      <td>...</td>\n",
       "    </tr>\n",
       "    <tr>\n",
       "      <th>48544</th>\n",
       "      <td>sent tuesday july re git space for hi got righ...</td>\n",
       "      <td>4</td>\n",
       "      <td>[sent, tuesday, july, git, space, hi, got, rig...</td>\n",
       "    </tr>\n",
       "    <tr>\n",
       "      <th>48545</th>\n",
       "      <td>sent july error hi guys can you help out with ...</td>\n",
       "      <td>4</td>\n",
       "      <td>[sent, july, error, hi, guys, you, help, with,...</td>\n",
       "    </tr>\n",
       "    <tr>\n",
       "      <th>48546</th>\n",
       "      <td>sent tuesday july connection issues hello have...</td>\n",
       "      <td>5</td>\n",
       "      <td>[sent, tuesday, july, connection, issues, hell...</td>\n",
       "    </tr>\n",
       "    <tr>\n",
       "      <th>48547</th>\n",
       "      <td>sent tuesday july error hello guys have receiv...</td>\n",
       "      <td>4</td>\n",
       "      <td>[sent, tuesday, july, error, hello, guys, rece...</td>\n",
       "    </tr>\n",
       "    <tr>\n",
       "      <th>48548</th>\n",
       "      <td>hello please be advised we running out extensi...</td>\n",
       "      <td>4</td>\n",
       "      <td>[hello, please, advised, running, extension, l...</td>\n",
       "    </tr>\n",
       "  </tbody>\n",
       "</table>\n",
       "<p>48549 rows × 3 columns</p>\n",
       "</div>"
      ],
      "text/plain": [
       "                                                    body  category  \\\n",
       "0      hi since recruiter lead permission approve req...         4   \n",
       "1      icon dear please setup icon per icon engineers...         6   \n",
       "2      work experience user hi work experience studen...         5   \n",
       "3      requesting meeting hi please help follow equip...         5   \n",
       "4      re expire days hi ask help update passwords co...         4   \n",
       "...                                                  ...       ...   \n",
       "48544  sent tuesday july re git space for hi got righ...         4   \n",
       "48545  sent july error hi guys can you help out with ...         4   \n",
       "48546  sent tuesday july connection issues hello have...         5   \n",
       "48547  sent tuesday july error hello guys have receiv...         4   \n",
       "48548  hello please be advised we running out extensi...         4   \n",
       "\n",
       "                                              clean_body  \n",
       "0      [hi, since, recruiter, lead, permission, appro...  \n",
       "1      [icon, dear, please, setup, icon, per, icon, e...  \n",
       "2      [work, experience, user, hi, work, experience,...  \n",
       "3      [requesting, meeting, hi, please, help, follow...  \n",
       "4      [expire, days, hi, ask, help, update, password...  \n",
       "...                                                  ...  \n",
       "48544  [sent, tuesday, july, git, space, hi, got, rig...  \n",
       "48545  [sent, july, error, hi, guys, you, help, with,...  \n",
       "48546  [sent, tuesday, july, connection, issues, hell...  \n",
       "48547  [sent, tuesday, july, error, hello, guys, rece...  \n",
       "48548  [hello, please, advised, running, extension, l...  \n",
       "\n",
       "[48549 rows x 3 columns]"
      ]
     },
     "execution_count": 26,
     "metadata": {},
     "output_type": "execute_result"
    }
   ],
   "source": [
    "df"
   ]
  },
  {
   "cell_type": "code",
   "execution_count": 27,
   "id": "FSNdaeh9gRnr",
   "metadata": {
    "id": "FSNdaeh9gRnr"
   },
   "outputs": [],
   "source": [
    "train, test = train_test_split(df, test_size=0.3, stratify=df['category'], random_state=42)"
   ]
  },
  {
   "cell_type": "code",
   "execution_count": 28,
   "id": "x-rDUuxUgefy",
   "metadata": {
    "colab": {
     "base_uri": "https://localhost:8080/"
    },
    "id": "x-rDUuxUgefy",
    "outputId": "4b3f09d6-4b76-4756-b246-c24fd27aa049"
   },
   "outputs": [
    {
     "name": "stdout",
     "output_type": "stream",
     "text": [
      "(33984, 3)\n",
      "(14565, 3)\n"
     ]
    }
   ],
   "source": [
    "print(train.shape)\n",
    "print(test.shape)"
   ]
  },
  {
   "cell_type": "code",
   "execution_count": 29,
   "id": "4bbc9155",
   "metadata": {
    "colab": {
     "base_uri": "https://localhost:8080/"
    },
    "id": "4bbc9155",
    "outputId": "f639269c-75a7-494d-d8a1-a2cd1c19b028"
   },
   "outputs": [],
   "source": [
    "# y = df['category']\n",
    "# X = df['clean_body']\n",
    "# X_train, X_test, y_train, y_test = train_test_split(X, y, test_size=0.3, stratify=y, random_state=42)\n",
    "# print(X_train.shape, X_test.shape, y_train.shape, y_test.shape)"
   ]
  },
  {
   "cell_type": "code",
   "execution_count": 30,
   "id": "4e7bb8e5",
   "metadata": {
    "colab": {
     "base_uri": "https://localhost:8080/"
    },
    "id": "4e7bb8e5",
    "outputId": "1ee3097f-9c8d-41f5-c25b-08d64820ae14"
   },
   "outputs": [
    {
     "name": "stdout",
     "output_type": "stream",
     "text": [
      "Note: you may need to restart the kernel to use updated packages.\n"
     ]
    },
    {
     "name": "stderr",
     "output_type": "stream",
     "text": [
      "'C:\\Users\\Dvija' is not recognized as an internal or external command,\n",
      "operable program or batch file.\n"
     ]
    }
   ],
   "source": [
    "pip install numpy requests nlpaug"
   ]
  },
  {
   "cell_type": "code",
   "execution_count": 31,
   "id": "cb58f1ad",
   "metadata": {
    "colab": {
     "base_uri": "https://localhost:8080/"
    },
    "id": "cb58f1ad",
    "outputId": "99a3ec22-c322-48fc-ea54-423c8e4e0ddb"
   },
   "outputs": [
    {
     "name": "stderr",
     "output_type": "stream",
     "text": [
      "[nltk_data] Downloading package averaged_perceptron_tagger to\n",
      "[nltk_data]     C:\\Users\\Dvija Shah\\AppData\\Roaming\\nltk_data...\n",
      "[nltk_data]   Package averaged_perceptron_tagger is already up-to-\n",
      "[nltk_data]       date!\n",
      "[nltk_data] Downloading package wordnet to C:\\Users\\Dvija\n",
      "[nltk_data]     Shah\\AppData\\Roaming\\nltk_data...\n",
      "[nltk_data]   Package wordnet is already up-to-date!\n"
     ]
    }
   ],
   "source": [
    "#conda install -c makcedward nlpaug\n",
    "nltk.download('averaged_perceptron_tagger')\n",
    "nltk.download('wordnet')\n",
    "\n",
    "import nlpaug.augmenter.char as nac\n",
    "import nlpaug.augmenter.word as naw\n",
    "import nlpaug.augmenter.sentence as nas\n",
    "import nlpaug.flow as nafc\n",
    "\n",
    "from nlpaug.util import Action"
   ]
  },
  {
   "cell_type": "code",
   "execution_count": 32,
   "id": "109ecbec",
   "metadata": {
    "colab": {
     "base_uri": "https://localhost:8080/",
     "height": 283
    },
    "id": "109ecbec",
    "outputId": "e503f947-8eea-43da-898e-9275436b8ab2"
   },
   "outputs": [
    {
     "data": {
      "image/png": "[encoded data removed]",
      "text/plain": [
       "<Figure size 432x288 with 1 Axes>"
      ]
     },
     "metadata": {
      "needs_background": "light"
     },
     "output_type": "display_data"
    }
   ],
   "source": [
    "ax = sns.countplot('category', data=train)"
   ]
  },
  {
   "cell_type": "code",
   "execution_count": 33,
   "id": "e1f62717",
   "metadata": {
    "colab": {
     "base_uri": "https://localhost:8080/"
    },
    "id": "e1f62717",
    "outputId": "f5436816-8caf-4b00-f04a-2c8a5487a997"
   },
   "outputs": [
    {
     "data": {
      "text/plain": [
       "4    23842\n",
       "5     6744\n",
       "6     1840\n",
       "0     1558\n",
       "Name: category, dtype: int64"
      ]
     },
     "execution_count": 33,
     "metadata": {},
     "output_type": "execute_result"
    }
   ],
   "source": [
    "train['category'].value_counts()"
   ]
  },
  {
   "cell_type": "code",
   "execution_count": null,
   "id": "fe037c32",
   "metadata": {
    "id": "fe037c32"
   },
   "outputs": [],
   "source": [
    "aug = naw.SynonymAug()\n",
    "\n",
    "def augmented_data(train,category,n):\n",
    "    augmented_data=[]    \n",
    "    for index, row in train.iterrows():\n",
    "        if(row['category'] == category):\n",
    "                str1 = ' '.join(row['clean_body'])\n",
    "                d= aug.augment(str1, n)\n",
    "                for j in d:\n",
    "                    augmented_data.append(clean_message(j))\n",
    "    \n",
    "    return augmented_data\n",
    "            \n",
    "            \n",
    "m=augmented_data(df,5,2)\n",
    "n=augmented_data(df,0,10)\n",
    "o=augmented_data(df,6,8)"
   ]
  },
  {
   "cell_type": "code",
   "execution_count": null,
   "id": "e6a94ef4",
   "metadata": {
    "colab": {
     "base_uri": "https://localhost:8080/"
    },
    "id": "e6a94ef4",
    "outputId": "825a45a5-4689-4ab0-83c3-ee485c4840f1"
   },
   "outputs": [],
   "source": [
    "# print(len(m))\n",
    "# print(len(n))\n",
    "# print(len(o))\n",
    "# m_new=[]\n",
    "# n_new=[]\n",
    "# o_new=[]\n",
    "# for i in m:\n",
    "#   m_new.append(clean_message(i))\n",
    "\n",
    "# for i in n:\n",
    "#   n_new.append(clean_message(i))\n",
    "\n",
    "# for i in o:\n",
    "#   o_new.append(clean_message(i))\n"
   ]
  },
  {
   "cell_type": "code",
   "execution_count": null,
   "id": "c4115559",
   "metadata": {
    "id": "c4115559"
   },
   "outputs": [],
   "source": [
    "new=train.iloc[:,1:]\n",
    "\n",
    "category_5=[]\n",
    "for i in range(0,len(m)):\n",
    "    category_5.append(5)\n",
    "\n",
    "\n",
    "df_5 = pd.DataFrame(list(zip(category_5, m)),\n",
    "               columns =['category', 'clean_body'])\n",
    " \n",
    "category_6=[]\n",
    "for i in range(0,len(o)):\n",
    "    category_6.append(6)\n",
    "\n",
    "df_6 = pd.DataFrame(list(zip(category_6, o)),\n",
    "               columns =['category', 'clean_body'])\n",
    "\n",
    "category_0=[]\n",
    "for i in range(0,len(n)):\n",
    "    category_0.append(0)\n",
    "\n",
    "df_0 = pd.DataFrame(list(zip(category_0, n)),\n",
    "               columns =['category', 'clean_body'])"
   ]
  },
  {
   "cell_type": "code",
   "execution_count": null,
   "id": "4a33768e",
   "metadata": {
    "id": "4a33768e"
   },
   "outputs": [],
   "source": [
    "frames = [new,df_5,df_6,df_0]\n",
    "train = pd.concat(frames)"
   ]
  },
  {
   "cell_type": "code",
   "execution_count": null,
   "id": "a613577f",
   "metadata": {
    "colab": {
     "base_uri": "https://localhost:8080/",
     "height": 423
    },
    "id": "a613577f",
    "outputId": "32cec12c-5e72-4eb1-923e-cdef9a535b7c"
   },
   "outputs": [],
   "source": [
    "train"
   ]
  },
  {
   "cell_type": "code",
   "execution_count": null,
   "id": "a22e8bd1",
   "metadata": {
    "colab": {
     "base_uri": "https://localhost:8080/",
     "height": 279
    },
    "id": "a22e8bd1",
    "outputId": "2bb630b6-35fb-46bd-c559-a668431d428d"
   },
   "outputs": [],
   "source": [
    "ax = sns.countplot('category', data=train)"
   ]
  },
  {
   "cell_type": "code",
   "execution_count": null,
   "id": "dc053793",
   "metadata": {
    "colab": {
     "base_uri": "https://localhost:8080/"
    },
    "id": "dc053793",
    "outputId": "c8f572e2-6962-431c-82a0-fad155b4646e"
   },
   "outputs": [],
   "source": [
    "train['category'].value_counts()"
   ]
  },
  {
   "cell_type": "code",
   "execution_count": null,
   "id": "ZPZmua-xk55O",
   "metadata": {
    "id": "ZPZmua-xk55O"
   },
   "outputs": [],
   "source": [
    "train.to_csv(\"train.csv\")\n",
    "test.to_csv(\"test.csv\")"
   ]
  }
 ],
 "metadata": {
  "colab": {
   "collapsed_sections": [],
   "name": "CS 6120 Support Ticket Classification project..ipynb",
   "provenance": []
  },
  "kernelspec": {
   "display_name": "Python 3 (ipykernel)",
   "language": "python",
   "name": "python3"
  },
  "language_info": {
   "codemirror_mode": {
    "name": "ipython",
    "version": 3
   },
   "file_extension": ".py",
   "mimetype": "text/x-python",
   "name": "python",
   "nbconvert_exporter": "python",
   "pygments_lexer": "ipython3",
   "version": "3.9.7"
  }
 },
 "nbformat": 4,
 "nbformat_minor": 5
}
